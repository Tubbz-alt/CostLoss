{
 "cells": [
  {
   "cell_type": "code",
   "execution_count": 1,
   "metadata": {},
   "outputs": [],
   "source": [
    "import numpy as np\n",
    "import pandas as pd\n",
    "import matplotlib.pyplot as plt\n",
    "from astropy.time import Time\n",
    "\n",
    "font = {'weight' : 'normal',\n",
    "        'size'   : 14}\n",
    "plt.rc('font', **font)"
   ]
  },
  {
   "cell_type": "code",
   "execution_count": 2,
   "metadata": {},
   "outputs": [],
   "source": [
    "#user-defined parameters\n",
    "\n",
    "quantile_thresh = 0.995  # the percentile to consider [0.995]\n",
    "time_res='1H'            #the time resoltuion at which to perfrom the analysis ['1H']\n",
    "n_categories = 4         # number of categories for V, B [4]. 4 = quartiles, etc\n",
    "n_cl_bins = 100          # number of cost/loss bins for plotting  [100]"
   ]
  },
  {
   "cell_type": "code",
   "execution_count": 3,
   "metadata": {},
   "outputs": [
    {
     "name": "stdout",
     "output_type": "stream",
     "text": [
      "99th percentile of g: 0.0663\n"
     ]
    },
    {
     "name": "stderr",
     "output_type": "stream",
     "text": [
      "C:\\Anaconda3\\envs\\costloss\\lib\\site-packages\\pandas\\plotting\\_matplotlib\\converter.py:103: FutureWarning: Using an implicitly registered datetime converter for a matplotlib plotting method. The converter was registered by pandas on import. Future versions of pandas will require you to explicitly register matplotlib converters.\n",
      "\n",
      "To register the converters:\n",
      "\t>>> from pandas.plotting import register_matplotlib_converters\n",
      "\t>>> register_matplotlib_converters()\n",
      "  warnings.warn(msg, FutureWarning)\n"
     ]
    },
    {
     "data": {
      "text/plain": [
       "Text(0, 0.5, 'Geoeffectiveness')"
      ]
     },
     "execution_count": 3,
     "metadata": {},
     "output_type": "execute_result"
    },
    {
     "data": {
      "image/png": "[encoded data removed]",
      "text/plain": [
       "<Figure size 432x288 with 1 Axes>"
      ]
     },
     "metadata": {
      "needs_background": "light"
     },
     "output_type": "display_data"
    }
   ],
   "source": [
    "#Load and process data\n",
    "######################\n",
    "def load_omni(): \n",
    "    columns = ['date', 'time', 'hgi_lat', 'hgi_lon', 'br', 'bt', 'bn', 'b', 'v', 'v_lat', 'v_lon', 'density', 'temperature']\n",
    "    omni = pd.read_csv('OMNI_COHO1HR_MERGED_MAG_PLASMA_199207.txt', delim_whitespace=True, skiprows=240, skipfooter=3, names=columns, engine='python')\n",
    "    # Combine date and time into timeindex\n",
    "    omni['time'] = pd.to_datetime(omni['date']+'T'+omni['time'], format='%d-%m-%YT%H:%M:%S.%f')\n",
    "    omni.drop(columns='date', inplace=True)\n",
    "    \n",
    "    omni.set_index('time', inplace=True)\n",
    "\n",
    "    # Set invalid numbers to NaN\n",
    "    id_bad = omni == -1e31\n",
    "    omni[id_bad] = np.NaN\n",
    "    return omni\n",
    "\n",
    "def load_icme():\n",
    "    \"\"\"\n",
    "    Function to load in the Richardson and Cane ICME list.\n",
    "    \"\"\"\n",
    "    columns = ['shock', 'leading_edge', 'trailing_edge', 'type']\n",
    "    icme = pd.read_csv('ICMEs.dat', delim_whitespace=True, names=columns)\n",
    "    \n",
    "    # Convert MJD to datetimes.\n",
    "    icme['shock'] = pd.to_datetime(Time(icme['shock'], format='mjd').datetime)\n",
    "    icme['leading_edge'] = pd.to_datetime(Time(icme['leading_edge'], format='mjd').datetime)\n",
    "    icme['trailing_edge'] = pd.to_datetime(Time(icme['trailing_edge'], format='mjd').datetime)\n",
    "    \n",
    "    return icme\n",
    "\n",
    "def cumdf(data, bin_edges):\n",
    "    hist, bins = np.histogram(data, bins=bin_edges)\n",
    "    cdf = np.cumsum(hist) / np.sum(hist)\n",
    "    return cdf\n",
    "\n",
    "omni = load_omni()\n",
    "icme = load_icme()\n",
    "\n",
    "#resample the omni data at the required resolution\n",
    "omni=omni.resample(time_res).mean()\n",
    "\n",
    "# Remove rows from omni with any bad speed, density or imf magnitude data (all needed for G calculaiton)\n",
    "#omni.dropna(how='any', subset=['density', 'v', 'b'], inplace=True)\n",
    "\n",
    "# compute geoeffectivness parameter\n",
    "alpha=0.5;\n",
    "# IMF clock angle\n",
    "theta=np.arctan2(-omni['bt'],omni['bn']);\n",
    "# Equation 1 in Owens et al. 2017\n",
    "d_exp = 2.0/3.0 - alpha\n",
    "b_exp = 2.0*alpha\n",
    "v_exp = 7.0/3.0 - 2.0*alpha\n",
    "omni['g'] = (omni['density']**d_exp) * (omni['b']**b_exp) * (omni['v']**v_exp) * (np.sin(theta/2.0)**4.0) * 1e-6\n",
    "\n",
    "\n",
    "g_thresh = np.nanquantile(omni['g'], quantile_thresh)\n",
    "print(\"99th percentile of g: {:3.4f}\".format(g_thresh))\n",
    "\n",
    "plt.plot(omni['g'], 'k-', zorder=0)\n",
    "plt.hlines(g_thresh, omni.index.min(), omni.index.max(), colors='r', linestyles='--', zorder=1)\n",
    "plt.xlim(omni.index.min(), omni.index.max())\n",
    "plt.ylim(0, omni['g'].max())\n",
    "plt.xlabel('Time')\n",
    "plt.ylabel('Geoeffectiveness')\n"
   ]
  },
  {
   "cell_type": "code",
   "execution_count": 4,
   "metadata": {},
   "outputs": [],
   "source": [
    "# Compute the quantiles of the CME speed distribution\n",
    "n_bins = 10000  # number of bins for CDF [10000]\n",
    "\n",
    "# Define G bins for computing CDFs\n",
    "g_min = omni['g'].min()\n",
    "g_max = omni['g'].max()\n",
    "dg = (g_max-g_min)/n_bins\n",
    "g_bin_edges = np.arange(g_min, g_max+dg, dg)\n",
    "g_bin_centres = (g_bin_edges[0:-1] + g_bin_edges[1:]) / 2.0\n",
    "\n",
    "\n",
    "# Loop through the ICMEs and compute the average CME properties, and also mask the solar wind time series.\n",
    "# Add in keys to icme and omni for the average solar wind properties and cme properties.\n",
    "for key in ['v', 'b']:\n",
    "    icme[key] = np.NaN*np.zeros(icme.shape[0])\n",
    "    \n",
    "for key in ['cme_v', 'cme_b', 'region', 'type']:\n",
    "    if key not in ['region', 'type']:\n",
    "        omni[key] = np.NaN*np.zeros(omni.shape[0])\n",
    "    else:\n",
    "        omni[key] = np.zeros(omni.shape[0])\n",
    "    \n",
    "for i, row in icme.iterrows():\n",
    "    \n",
    "    # Find solar wind period between cme shock and trailing edge\n",
    "    id_cme = (omni.index >= row['shock']) & (omni.index <= row['trailing_edge'])\n",
    "    if np.any(id_cme):\n",
    "        # Update ICME with solar wind parameters\n",
    "        icme.loc[i, 'v'] = omni.loc[id_cme, 'v'].mean(skipna=True) \n",
    "        icme.loc[i, 'b'] = omni.loc[id_cme, 'b'].mean(skipna=True) \n",
    "        \n",
    "        # Update solar wind paramters with average CME properties and type\n",
    "        omni.loc[id_cme, 'cme_v'] = icme.loc[i, 'v']\n",
    "        omni.loc[id_cme, 'cme_b'] = icme.loc[i, 'b']\n",
    "        omni.loc[id_cme, 'region'] = 1 # Flag for being in sheath, will update CME regions after.\n",
    "        omni.loc[id_cme, 'type'] = icme.loc[i, 'type']\n",
    "     \n",
    "    # Update region flag if in CME rather than sheath\n",
    "    id_cme = (omni.index >= row['leading_edge']) & (omni.index <= row['trailing_edge'])\n",
    "    if np.any(id_cme):\n",
    "        omni.loc[id_cme, 'region'] = 2\n"
   ]
  },
  {
   "cell_type": "code",
   "execution_count": 5,
   "metadata": {},
   "outputs": [
    {
     "name": "stdout",
     "output_type": "stream",
     "text": [
      "V quantiles are:  0.25    389.844086\n",
      "0.50    439.950000\n",
      "0.75    506.682063\n",
      "Name: v, dtype: float64\n",
      "B quantiles are:  0.25     6.905092\n",
      "0.50     9.116540\n",
      "0.75    11.639612\n",
      "Name: b, dtype: float64\n"
     ]
    },
    {
     "name": "stderr",
     "output_type": "stream",
     "text": [
      "C:\\Anaconda3\\envs\\costloss\\lib\\site-packages\\numpy\\core\\fromnumeric.py:61: FutureWarning: Series.nonzero() is deprecated and will be removed in a future version.Use Series.to_numpy().nonzero() instead\n",
      "  return bound(*args, **kwds)\n"
     ]
    }
   ],
   "source": [
    "#Compute the G values for each CME quantile\n",
    "\n",
    "quantiles = np.arange(1, n_categories, 1) / n_categories\n",
    "v_quantiles = icme['v'].quantile(quantiles)\n",
    "b_quantiles = icme['b'].quantile(quantiles)\n",
    "\n",
    "print('V quantiles are: ',v_quantiles)\n",
    "print('B quantiles are: ',b_quantiles)\n",
    "\n",
    "# Find the indices of SW parameters for the different v and b quantiles and sw classifications (cme, no cme)\n",
    "groups = {}\n",
    "groups['all'] = np.argwhere(np.isfinite(omni['g'])).squeeze()\n",
    "groups['no_cme'] = np.argwhere(omni['region'] == 0).squeeze()\n",
    "groups['cme'] = np.argwhere(omni['region'] > 0).squeeze()\n",
    "\n",
    "for i in range(v_quantiles.size + 1):\n",
    "    \n",
    "    v_key = \"v_{:02d}\".format(i)\n",
    "    b_key = \"b_{:02d}\".format(i)\n",
    "    if i == 0:\n",
    "        id_group = omni['cme_v'] <= v_quantiles.values[i] # do nans need to be exlucded here?\n",
    "        groups[v_key] = np.argwhere(id_group).squeeze()\n",
    "        \n",
    "        id_group = omni['cme_b'] <= b_quantiles.values[i]\n",
    "        groups[b_key] = np.argwhere(id_group).squeeze()\n",
    "        \n",
    "    elif (i > 0) & (i < v_quantiles.size):\n",
    "        id_group = (omni['cme_v'] > v_quantiles.values[i-1]) & (omni['cme_v'] <= v_quantiles.values[i])\n",
    "        groups[v_key] = np.argwhere(id_group).squeeze()\n",
    "        \n",
    "        id_group = (omni['cme_b'] > b_quantiles.values[i-1]) & (omni['cme_b'] <= b_quantiles.values[i])\n",
    "        groups[b_key] = np.argwhere(id_group).squeeze()\n",
    "    \n",
    "    elif i == v_quantiles.size:\n",
    "        id_group = omni['cme_v'] > v_quantiles.values[i-1]\n",
    "        groups[v_key] = np.argwhere(id_group).squeeze()\n",
    "        \n",
    "        id_group = omni['cme_b'] > b_quantiles.values[i-1]\n",
    "        groups[b_key] = np.argwhere(id_group).squeeze()\n",
    "        \n",
    "# Now the combined V and B groups\n",
    "for i in range(v_quantiles.size + 1):\n",
    "    v_key = \"v_{:02d}\".format(i)\n",
    "    \n",
    "    for j in range(b_quantiles.size + 1):\n",
    "        b_key = \"b_{:02d}\".format(j)\n",
    "        vb_key = v_key + '_' + b_key\n",
    "        # Also get the intersection of the matched quantiles for the combined v-b category\n",
    "        groups[vb_key] = np.intersect1d(groups[v_key], groups[b_key])"
   ]
  },
  {
   "cell_type": "code",
   "execution_count": 6,
   "metadata": {},
   "outputs": [],
   "source": [
    "# Compute the exceedance probability and numbers above and below threshold for each grouping of the data.\n",
    "prob = {}\n",
    "number = {}\n",
    "\n",
    "# Find g_bin closest to threshold from below.\n",
    "pos = np.argwhere(g_bin_centres <= g_thresh).squeeze() # should this be <=?\n",
    "id_exceed = pos[-1]\n",
    "for key, index in groups.items():\n",
    "    \n",
    "    g_sub = omni.iloc[index]['g']\n",
    "    cdf = cumdf(g_sub, g_bin_edges)\n",
    "    prob[key] = 1.0 - cdf[id_exceed]\n",
    "    n_above = np.sum(g_sub > g_thresh)\n",
    "    n_below = np.sum(g_sub <= g_thresh)\n",
    "    n_all = np.sum(np.isfinite(g_sub))\n",
    "    number[key] = {'above': n_above, 'below': n_below, 'all': n_all}\n",
    "    \n"
   ]
  },
  {
   "cell_type": "code",
   "execution_count": 7,
   "metadata": {},
   "outputs": [
    {
     "name": "stdout",
     "output_type": "stream",
     "text": [
      "Ncme = 17420, Ncme' = 770\n",
      "Nsw = 196334, Nsw' = 299\n",
      "p'sw = 0.0015\n",
      "p'cme = 0.0442\n"
     ]
    }
   ],
   "source": [
    "# Ouput key statistics\n",
    "print(\"Ncme = {}, Ncme' = {}\".format(number['cme']['all'], number['cme']['above']))\n",
    "print(\"Nsw = {}, Nsw' = {}\".format(number['no_cme']['all'], number['no_cme']['above']))\n",
    "print(\"p'sw = {:3.4f}\".format(number['no_cme']['above']/number['no_cme']['all']))\n",
    "print(\"p'cme = {:3.4f}\".format(number['cme']['above']/number['cme']['all']))"
   ]
  },
  {
   "cell_type": "code",
   "execution_count": 8,
   "metadata": {},
   "outputs": [],
   "source": [
    "#Perform cost/loss analysis\n",
    "costs = np.geomspace(0.001, 1, num=n_cl_bins)\n",
    "\n",
    "# DataFrame to store all cost calculations\n",
    "costloss = pd.DataFrame({'cost':costs, 'perfect': 0, 'climatology': 0, 'cmes': 0, 'v': 0, 'b': 0, 'vb': 0})\n",
    "loss = 1.0\n",
    "for i, cost in enumerate(costs):\n",
    "    \n",
    "    # cost of a perfect deterministic forecast is the number of times the\n",
    "    # threshold is exceeded, multiplied by the cost\n",
    "    costloss.loc[i, 'perfect'] = cost * number['all']['above']\n",
    "    \n",
    "    # cost of climatology is different if the climatological probability is\n",
    "    # above or below the c/l ratio\n",
    "    if (cost <= prob['all']):  # always take action\n",
    "        # cost is the clratio at all times\n",
    "        costloss.loc[i, 'climatology'] = cost * number['all']['all']   \n",
    "    elif (cost > prob['all']): #never take action\n",
    "        # cost is simply all the missed events\n",
    "        costloss.loc[i, 'climatology'] = loss * number['all']['above']\n",
    "        \n",
    "    ##########################\n",
    "    # Update the costs due to no_cme solar wind\n",
    "    if cost <= prob['no_cme']:\n",
    "        costloss.loc[i, 'cmes'] = cost * number['no_cme']['all']\n",
    "        costloss.loc[i, 'v'] = cost * number['no_cme']['all']\n",
    "        costloss.loc[i, 'b'] = cost * number['no_cme']['all']\n",
    "        costloss.loc[i, 'vb'] = cost * number['no_cme']['all']     \n",
    "        \n",
    "    elif cost > prob['no_cme']:\n",
    "        costloss.loc[i, 'cmes'] = loss * number['no_cme']['above']\n",
    "        costloss.loc[i, 'v'] = loss * number['no_cme']['above']\n",
    "        costloss.loc[i, 'b'] = loss * number['no_cme']['above']\n",
    "        costloss.loc[i, 'vb'] = loss * number['no_cme']['above']\n",
    "        \n",
    "    ##########################\n",
    "    # Update the costs due to icme arrivals\n",
    "    if cost <= prob['cme']:\n",
    "        costloss.loc[i, 'cmes'] += cost * number['cme']['all']\n",
    "    elif cost > prob['cme']:\n",
    "        costloss.loc[i, 'cmes'] += loss * number['cme']['above']\n",
    "        \n",
    "    ##########################\n",
    "    # Update the costs due to v & b categories\n",
    "    for j in range(v_quantiles.size + 1):\n",
    "        v_key = \"v_{:02d}\".format(j)\n",
    "        b_key = \"b_{:02d}\".format(j)\n",
    "        \n",
    "        if cost <= prob[v_key]:\n",
    "            costloss.loc[i, 'v'] += cost * number[v_key]['all']\n",
    "        elif cost > prob[v_key]:\n",
    "            costloss.loc[i, 'v'] += loss * number[v_key]['above']\n",
    "            \n",
    "        if cost <= prob[b_key]:\n",
    "            costloss.loc[i, 'b'] += cost * number[b_key]['all']\n",
    "        elif cost > prob[v_key]:\n",
    "            costloss.loc[i, 'b'] += loss * number[b_key]['above']\n",
    "            \n",
    "    ##########################\n",
    "    # Update the costs due to combined v & b categories\n",
    "    for j in range(v_quantiles.size + 1):\n",
    "        v_key = \"v_{:02d}\".format(j)\n",
    "        for k in range(b_quantiles.size + 1):\n",
    "            b_key = \"b_{:02d}\".format(k)\n",
    "            vb_key = v_key + '_' + b_key\n",
    "\n",
    "            if cost <= prob[vb_key]:\n",
    "                costloss.loc[i, 'vb'] += cost * number[vb_key]['all']\n",
    "            elif cost > prob[vb_key]:\n",
    "                costloss.loc[i, 'vb'] += loss * number[vb_key]['above']\n",
    "\n",
    "# Compute the relative forecast value (clim - forecast)/(clim - perfect)\n",
    "for key in ['cmes', 'v', 'b', 'vb']:\n",
    "    new_key = key+\"_relative\"\n",
    "    costloss[new_key] = 100 * (costloss['climatology'] - costloss[key]) / (costloss['climatology'] - costloss['perfect'])"
   ]
  },
  {
   "cell_type": "code",
   "execution_count": 23,
   "metadata": {},
   "outputs": [
    {
     "data": {
      "text/plain": [
       "Text(0.45, 1.04, 'False alarms\\ncan be tolerated')"
      ]
     },
     "execution_count": 23,
     "metadata": {},
     "output_type": "execute_result"
    },
    {
     "data": {
      "image/png": "[encoded data removed]",
      "text/plain": [
       "<Figure size 576x432 with 1 Axes>"
      ]
     },
     "metadata": {
      "needs_background": "light"
     },
     "output_type": "display_data"
    }
   ],
   "source": [
    "#plot the cost-loss summary    \n",
    "fig, ax = plt.subplots(figsize=(8,6))\n",
    "ax.fill_between(costloss['cost'], 0, costloss['cmes_relative'], color=[0.7, 0.7, 0.7], label='ICME Arrival time only')\n",
    "ax.plot(costloss['cost'], costloss['v_relative'], 'b-', label='+ ICME V')\n",
    "ax.plot(costloss['cost'], costloss['b_relative'], 'r-', label='+ ICME B')\n",
    "ax.plot(costloss['cost'], costloss['vb_relative'], 'k-', label='+ ICME V & B')\n",
    "\n",
    "ax.set_xscale('log')\n",
    "ax.set_ylim(0, 70)\n",
    "ax.set_xticks((0.001,0.01,0.1,1))\n",
    "ax.set_xticklabels(('0.001','0.01','0.1','1'))\n",
    "ax.set_xlim(0.001, 1.0)\n",
    "#legend\n",
    "handles, labels = plt.gca().get_legend_handles_labels()\n",
    "legendorder = [3,0,1,2]\n",
    "plt.legend([handles[idx] for idx in legendorder],[labels[idx] for idx in legendorder])\n",
    "\n",
    "ax.grid(b=True, which='both', axis='both')\n",
    "ax.set_ylabel('Forecast value (%)')\n",
    "ax.set_xlabel('C/L: Relative cost of taking mitigating action')\n",
    "\n",
    "ax.annotate('', xy=(0.75, 1.1), xycoords='axes fraction', xytext=(1, 1.1), \n",
    "            arrowprops=dict(arrowstyle=\"<-\", color='k'))\n",
    "ax.annotate('False alarms\\ncannot be tolerated', xy=(0.8, 1.1), xycoords='axes fraction', xytext=(0.52, 1.04),ha='left' )\n",
    "\n",
    "ax.annotate('', xy=(0.225, 1.1), xycoords='axes fraction', xytext=(0, 1.1), \n",
    "            arrowprops=dict(arrowstyle=\"<-\", color='k'))\n",
    "ax.annotate('False alarms\\ncan be tolerated', xy=(0.8, 1.1), xycoords='axes fraction', xytext=(0.45, 1.04),ha='right' )"
   ]
  }
 ],
 "metadata": {
  "kernelspec": {
   "display_name": "Python 3",
   "language": "python",
   "name": "python3"
  },
  "language_info": {
   "codemirror_mode": {
    "name": "ipython",
    "version": 3
   },
   "file_extension": ".py",
   "mimetype": "text/x-python",
   "name": "python",
   "nbconvert_exporter": "python",
   "pygments_lexer": "ipython3",
   "version": "3.7.6"
  }
 },
 "nbformat": 4,
 "nbformat_minor": 4
}
