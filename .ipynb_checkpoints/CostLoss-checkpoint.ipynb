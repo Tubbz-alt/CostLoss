{
 "cells": [
  {
   "cell_type": "code",
   "execution_count": 1,
   "metadata": {},
   "outputs": [],
   "source": [
    "import numpy as np\n",
    "import pandas as pd\n",
    "import matplotlib.pyplot as plt\n",
    "from astropy.time import Time"
   ]
  },
  {
   "cell_type": "code",
   "execution_count": 11,
   "metadata": {},
   "outputs": [
    {
     "name": "stderr",
     "output_type": "stream",
     "text": [
      "C:\\Anaconda3\\lib\\site-packages\\ipykernel_launcher.py:3: ParserWarning: Falling back to the 'python' engine because the 'c' engine does not support skipfooter; you can avoid this warning by specifying engine='python'.\n",
      "  This is separate from the ipykernel package so we can avoid doing imports until\n"
     ]
    },
    {
     "name": "stdout",
     "output_type": "stream",
     "text": [
      "99th percentile of g: 0.0524\n"
     ]
    },
    {
     "data": {
      "text/plain": [
       "Text(0, 0.5, 'Geoeffectiveness')"
      ]
     },
     "execution_count": 11,
     "metadata": {},
     "output_type": "execute_result"
    },
    {
     "data": {
      "image/png": "[encoded data removed]",
      "text/plain": [
       "<Figure size 432x288 with 1 Axes>"
      ]
     },
     "metadata": {
      "needs_background": "light"
     },
     "output_type": "display_data"
    }
   ],
   "source": [
    "def load_omni():\n",
    "    columns = ['date', 'time', 'hgi_lat', 'hgi_lon', 'br', 'bt', 'bn', 'b', 'v', 'v_lat', 'v_lon', 'density', 'temperature']\n",
    "    omni = pd.read_csv('OMNI_COHO1HR_MERGED_MAG_PLASMA_199207.txt', delim_whitespace=True, skiprows=240, skipfooter=3, names=columns)\n",
    "    # Combine date and time into timeindex\n",
    "    omni['time'] = pd.to_datetime(omni['date']+'T'+omni['time'], format='%d-%m-%YT%H:%M:%S.%f')\n",
    "    omni.drop(columns='date', inplace=True)\n",
    "\n",
    "    # Set invalid numbers to NaN\n",
    "    id_bad = omni == -1e31\n",
    "    omni[id_bad] = np.NaN\n",
    "    return omni\n",
    "\n",
    "def load_icme():\n",
    "    \"\"\"\n",
    "    Function to load in the Richardson and Cane ICME list.\n",
    "    \"\"\"\n",
    "    columns = ['shock', 'leading_edge', 'trailing_edge', 'type']\n",
    "    icme = pd.read_csv('ICMEs.dat', delim_whitespace=True, names=columns)\n",
    "    \n",
    "    # Convert MJD to datetimes.\n",
    "    icme['shock'] = pd.to_datetime(Time(icme['shock'], format='mjd').datetime)\n",
    "    icme['leading_edge'] = pd.to_datetime(Time(icme['leading_edge'], format='mjd').datetime)\n",
    "    icme['trailing_edge'] = pd.to_datetime(Time(icme['trailing_edge'], format='mjd').datetime)\n",
    "    \n",
    "    return icme\n",
    "\n",
    "def cumdf(data, bin_edges):\n",
    "    hist, bins = np.histogram(data, bins=bin_edges)\n",
    "    cdf = np.cumsum(hist) / np.sum(hist)\n",
    "    return cdf\n",
    "\n",
    "omni = load_omni()\n",
    "icme = load_icme()\n",
    "\n",
    "# Remove rows from omni with any bad speed, density or imf magnitude data (all needed for G calculaiton)\n",
    "#omni.dropna(how='any', subset=['density', 'v', 'b'], inplace=True)\n",
    "\n",
    "# compute geoeffectivness parameter\n",
    "alpha=0.5;\n",
    "# IMF clock angle\n",
    "theta=np.arctan2(-omni['bt'],omni['bn']);\n",
    "# Equation 1 in Owens et al.\n",
    "d_exp = 2.0/3.0 - alpha\n",
    "b_exp = 2.0*alpha\n",
    "v_exp = 7.0/3.0 - 2.0*alpha\n",
    "omni['g'] = (omni['density']**d_exp) * (omni['b']**b_exp) * (omni['v']**v_exp) * (np.sin(theta/2.0)**4.0) * 1e-6\n",
    "\n",
    "quantile_thresh = 0.99  # the percentile to consider\n",
    "g_thresh = np.nanquantile(omni['g'], quantile_thresh)\n",
    "print(\"99th percentile of g: {:3.4f}\".format(g_thresh))\n",
    "\n",
    "plt.plot(omni['time'], omni['g'], 'k-', zorder=0)\n",
    "plt.hlines(g_thresh, omni['time'].min(), omni['time'].max(), colors='r', linestyles='--', zorder=1)\n",
    "plt.xlim(omni['time'].min(), omni['time'].max())\n",
    "plt.ylim(0, omni['g'].max())\n",
    "plt.xlabel('Time')\n",
    "plt.ylabel('Geoeffectiveness')"
   ]
  },
  {
   "cell_type": "code",
   "execution_count": 12,
   "metadata": {},
   "outputs": [
    {
     "name": "stdout",
     "output_type": "stream",
     "text": [
      "g minimum: 0.0000\n",
      "g maximum: 0.7462\n"
     ]
    }
   ],
   "source": [
    "# Compute the quantiles of the CME speed distribution\n",
    "n_categories = 10  # number of categories for V, B. 4 = quartiles\n",
    "n_bins = 10000  # number of bins for CDF [10000]\n",
    "n_cl_bins = 100  # number of cost/loss bins\n",
    "\n",
    "# Define G bins for computing CDFs\n",
    "g_min = omni['g'].min()\n",
    "g_max = omni['g'].max()\n",
    "dg = (g_max-g_min)/n_bins\n",
    "g_bin_edges = np.arange(g_min, g_max+dg, dg)\n",
    "g_bin_centres = (g_bin_edges[0:-1] + g_bin_edges[1:]) / 2.0"
   ]
  },
  {
   "cell_type": "code",
   "execution_count": 13,
   "metadata": {},
   "outputs": [],
   "source": [
    "# Loop through the ICMEs and compute the average CME properties, and also mask the solar wind time series.\n",
    "# Add in keys to icme and omni for the average solar wind properties and cme properties.\n",
    "for key in ['v', 'b']:\n",
    "    icme[key] = np.NaN*np.zeros(icme.shape[0])\n",
    "    \n",
    "for key in ['cme_v', 'cme_b', 'region', 'type']:\n",
    "    if key not in ['region', 'type']:\n",
    "        omni[key] = np.NaN*np.zeros(omni.shape[0])\n",
    "    else:\n",
    "        omni[key] = np.zeros(omni.shape[0])\n",
    "    \n",
    "for i, row in icme.iterrows():\n",
    "    \n",
    "    # Find solar wind period between cme shock and trailing edge\n",
    "    id_cme = (omni['time'] >= row['shock']) & (omni['time'] <= row['trailing_edge'])\n",
    "    if np.any(id_cme):\n",
    "        # Update ICME with solar wind parameters\n",
    "        icme.loc[i, 'v'] = omni.loc[id_cme, 'v'].mean(skipna=True) \n",
    "        icme.loc[i, 'b'] = omni.loc[id_cme, 'b'].mean(skipna=True) \n",
    "        \n",
    "        # Update solar wind paramters with average CME properties and type\n",
    "        omni.loc[id_cme, 'cme_v'] = icme.loc[i, 'v']\n",
    "        omni.loc[id_cme, 'cme_b'] = icme.loc[i, 'b']\n",
    "        omni.loc[id_cme, 'region'] = 1 # Flag for being in sheath, will update CME regions after.\n",
    "        omni.loc[id_cme, 'type'] = icme.loc[i, 'type']\n",
    "     \n",
    "    # Update region flag if in CME rather than sheath\n",
    "    id_cme = (omni['time'] >= row['leading_edge']) & (omni['time'] <= row['trailing_edge'])\n",
    "    if np.any(id_cme):\n",
    "        omni.loc[id_cme, 'region'] = 2\n"
   ]
  },
  {
   "cell_type": "code",
   "execution_count": 23,
   "metadata": {},
   "outputs": [],
   "source": [
    "quantiles = np.arange(1, n_categories, 1) / n_categories\n",
    "v_quantiles = icme['v'].quantile(quantiles)\n",
    "b_quantiles = icme['b'].quantile(quantiles)\n",
    "\n",
    "# Find the indices of SW parameters for the different v and b quantiles and sw classifications (cme, no cme)\n",
    "groups = {}\n",
    "groups['all'] = np.argwhere(np.isfinite(omni['g'])).squeeze()\n",
    "groups['no_cme'] = np.argwhere(omni['region'] == 0).squeeze()\n",
    "groups['cme'] = np.argwhere(omni['region'] > 0).squeeze()\n",
    "\n",
    "for i in range(v_quantiles.size + 1):\n",
    "    \n",
    "    v_key = \"v_{:02d}\".format(i)\n",
    "    b_key = \"b_{:02d}\".format(i)\n",
    "    if i == 0:\n",
    "        id_group = omni['cme_v'] <= v_quantiles.values[i] # do nans need to be exlucded here?\n",
    "        groups[v_key] = np.argwhere(id_group).squeeze()\n",
    "        \n",
    "        id_group = omni['cme_b'] <= b_quantiles.values[i]\n",
    "        groups[b_key] = np.argwhere(id_group).squeeze()\n",
    "        \n",
    "    elif (i > 0) & (i < v_quantiles.size):\n",
    "        id_group = (omni['cme_v'] >= v_quantiles.values[i-1]) & (omni['cme_v'] <= v_quantiles.values[i])\n",
    "        groups[v_key] = np.argwhere(id_group).squeeze()\n",
    "        \n",
    "        id_group = (omni['cme_b'] >= b_quantiles.values[i-1]) & (omni['cme_b'] <= b_quantiles.values[i])\n",
    "        groups[b_key] = np.argwhere(id_group).squeeze()\n",
    "    \n",
    "    elif i == v_quantiles.size:\n",
    "        id_group = omni['cme_v'] >= v_quantiles.values[i-1]\n",
    "        groups[v_key] = np.argwhere(id_group).squeeze()\n",
    "        \n",
    "        id_group = omni['cme_b'] >= b_quantiles.values[i-1]\n",
    "        groups[b_key] = np.argwhere(id_group).squeeze()\n",
    "        \n",
    "# Now the combined V and B groups\n",
    "for i in range(v_quantiles.size + 1):\n",
    "    v_key = \"v_{:02d}\".format(i)\n",
    "    \n",
    "    for j in range(b_quantiles.size + 1):\n",
    "        b_key = \"b_{:02d}\".format(j)\n",
    "        vb_key = v_key + '_' + b_key\n",
    "        # Also get the intersection of the matched quantiles for the combined v-b category\n",
    "        groups[vb_key] = np.intersect1d(groups[v_key], groups[b_key])"
   ]
  },
  {
   "cell_type": "code",
   "execution_count": 24,
   "metadata": {},
   "outputs": [
    {
     "name": "stderr",
     "output_type": "stream",
     "text": [
      "C:\\Anaconda3\\lib\\site-packages\\ipykernel_launcher.py:29: RuntimeWarning: invalid value encountered in true_divide\n"
     ]
    }
   ],
   "source": [
    "# Compute the CDFS for each grouping of the data.\n",
    "cdfs = {}\n",
    "prob = {}\n",
    "number = {}\n",
    "\n",
    "# Find g_bin closest to threshold from below.\n",
    "pos = np.argwhere(g_bin_centres < g_thresh).squeeze() # should this be <=?\n",
    "id_exceed = pos[-1]\n",
    "for key, index in groups.items():\n",
    "    \n",
    "    g_sub = omni.loc[index, 'g']\n",
    "    cdf = cumdf(g_sub, g_bin_edges)\n",
    "    cdfs[key] = cdf\n",
    "    prob[key] = 1.0 - cdf[id_exceed]\n",
    "    n_above = np.sum(g_sub > g_thresh)\n",
    "    n_below = np.sum(g_sub <= g_thresh)\n",
    "    n_all = np.sum(np.isfinite(g_sub))\n",
    "    number[key] = {'above': n_above, 'below': n_below, 'all': n_all}"
   ]
  },
  {
   "cell_type": "code",
   "execution_count": 25,
   "metadata": {},
   "outputs": [
    {
     "name": "stdout",
     "output_type": "stream",
     "text": [
      "Ncme = 17420, Ncme' = 1264\n",
      "Nsw = 196334, Nsw' = 874\n",
      "p'sw = 0.0045\n",
      "p'cme = 0.0726\n"
     ]
    }
   ],
   "source": [
    "print(\"Ncme = {}, Ncme' = {}\".format(number['cme']['all'], number['cme']['above']))\n",
    "print(\"Nsw = {}, Nsw' = {}\".format(number['no_cme']['all'], number['no_cme']['above']))\n",
    "\n",
    "print(\"p'sw = {:3.4f}\".format(number['no_cme']['above']/number['no_cme']['all']))\n",
    "print(\"p'cme = {:3.4f}\".format(number['cme']['above']/number['cme']['all']))\n",
    "\n",
    "# Paper has Ncme=17744, Ncme'=1149, Nsw=216787, Nsw'=1112"
   ]
  },
  {
   "cell_type": "code",
   "execution_count": 27,
   "metadata": {},
   "outputs": [],
   "source": [
    "dcost = 1.0 / n_cl_bins\n",
    "costs = np.arange(dcost, 1.0, dcost)\n",
    "\n",
    "cost_clim = np.zeros(costs.size)\n",
    "cost_cmes = np.zeros(costs.size)\n",
    "cost_perfect = np.zeros(costs.size)\n",
    "cost_v = np.zeros(costs.size)\n",
    "cost_b = np.zeros(costs.size)\n",
    "cost_vb = np.zeros(costs.size)\n",
    "\n",
    "loss = 1.0\n",
    "for i, cost in enumerate(costs):\n",
    "    \n",
    "    # cost of a perfect deterministic forecast is the number of times the\n",
    "    # threshold is exceeded, multiplied by the cost\n",
    "    cost_perfect[i] = cost * number['all']['above']\n",
    "    \n",
    "    # cost of climatology is different if the climatological probability is\n",
    "    # above or below the c/l ratio\n",
    "    if (cost <= prob['all']):  # always take action\n",
    "        # cost is the clratio at all times\n",
    "        cost_clim[i] = cost * number['all']['all']   \n",
    "    elif (cost > prob['all']): #never take action\n",
    "        # cost is simply all the missed events\n",
    "        cost_clim[i] = loss * number['all']['above']\n",
    "        \n",
    "    ##########################\n",
    "    # ICMES\n",
    "    ##########################\n",
    "    if cost <= prob['no_cme']:\n",
    "        cost_cmes[i] = cost * number['no_cme']['all']\n",
    "    elif cost > prob['no_cme']:\n",
    "        cost_cmes[i] = loss * number['no_cme']['above']\n",
    "        \n",
    "    if cost <= prob['cme']:\n",
    "        cost_cmes[i] += cost * number['cme']['all']\n",
    "    elif cost > prob['cme']:\n",
    "        cost_cmes[i] += loss * number['cme']['above']\n",
    "        \n",
    "    ########################\n",
    "    # V & B Categories\n",
    "    ########################\n",
    "    if cost <= prob['no_cme']:\n",
    "        cost_v[i] = cost * number['no_cme']['all']\n",
    "        cost_b[i] = cost * number['no_cme']['all']\n",
    "    elif cost > prob['no_cme']:\n",
    "        cost_v[i] = loss * number['no_cme']['above']\n",
    "        cost_b[i] = loss * number['no_cme']['above']\n",
    "        \n",
    "    for j in range(v_quantiles.size + 1):\n",
    "        v_key = \"v_{:02d}\".format(j)\n",
    "        b_key = \"b_{:02d}\".format(j)\n",
    "        \n",
    "        if cost <= prob[v_key]:\n",
    "            cost_v[i] += cost * number[v_key]['all']\n",
    "        elif cost > prob[v_key]:\n",
    "            cost_v[i] += loss * number[v_key]['above']\n",
    "            \n",
    "        if cost <= prob[b_key]:\n",
    "            cost_b[i] += cost * number[b_key]['all']\n",
    "        elif cost > prob[v_key]:\n",
    "            cost_b[i] += loss * number[b_key]['above']\n",
    "            \n",
    "    ###########################\n",
    "    # Combined V & B\n",
    "    ###########################\n",
    "    \n",
    "    #%first the non-icme solar wind\n",
    "    if cost <= prob['no_cme']:\n",
    "        cost_vb[i] = cost * number['no_cme']['all']     \n",
    "    elif cost > prob['no_cme']:\n",
    "        cost_vb[i] = loss * number['no_cme']['above']\n",
    "        \n",
    "    # then add the ICME categories\n",
    "    for j in range(v_quantiles.size + 1):\n",
    "        v_key = \"v_{:02d}\".format(j)\n",
    "        for k in range(b_quantiles.size + 1):\n",
    "            b_key = \"b_{:02d}\".format(k)\n",
    "            vb_key = v_key + '_' + b_key\n",
    "\n",
    "            if cost <= prob[vb_key]:\n",
    "                cost_vb[i] += cost * number[vb_key]['all']\n",
    "            elif cost > prob[vb_key]:\n",
    "                cost_vb[i] += loss * number[vb_key]['above']\n",
    "                "
   ]
  },
  {
   "cell_type": "code",
   "execution_count": 28,
   "metadata": {},
   "outputs": [
    {
     "data": {
      "image/png": "[encoded data removed]",
      "text/plain": [
       "<Figure size 432x288 with 1 Axes>"
      ]
     },
     "metadata": {
      "needs_background": "light"
     },
     "output_type": "display_data"
    }
   ],
   "source": [
    "fig, ax = plt.subplots()\n",
    "y = 100 * (cost_clim - cost_cmes) / (cost_clim - cost_perfect)\n",
    "ax.fill_between(costs, 0, y, color=[0.7, 0.7, 0.7], label='ICME Arrival time only')\n",
    "\n",
    "y = 100 * (cost_clim - cost_v) / (cost_clim - cost_perfect)\n",
    "ax.plot(costs, y, 'b-', label='ICME V')\n",
    "\n",
    "y = 100 * (cost_clim - cost_b) / (cost_clim - cost_perfect)\n",
    "ax.plot(costs, y, 'r-', label='ICME B')\n",
    "\n",
    "y = 100 * (cost_clim - cost_vb) / (cost_clim - cost_perfect)\n",
    "ax.plot(costs, y, 'k-', label='ICME V & B')\n",
    "\n",
    "ax.set_xscale('log')\n",
    "ax.set_ylim(0, 60)\n",
    "ax.set_xlim(0.01, 1.0)\n",
    "ax.legend()\n",
    "ax.grid(b=True, which='both', axis='both')\n",
    "ax.set_ylabel('Forecast value (%)')\n",
    "ax.set_xlabel('C/L: Relative cost of taking mitigating action')"
   ]
  }
 ],
 "metadata": {
  "kernelspec": {
   "display_name": "Python 3",
   "language": "python",
   "name": "python3"
  },
  "language_info": {
   "codemirror_mode": {
    "name": "ipython",
    "version": 3
   },
   "file_extension": ".py",
   "mimetype": "text/x-python",
   "name": "python",
   "nbconvert_exporter": "python",
   "pygments_lexer": "ipython3",
   "version": "3.7.3"
  }
 },
 "nbformat": 4,
 "nbformat_minor": 4
}
